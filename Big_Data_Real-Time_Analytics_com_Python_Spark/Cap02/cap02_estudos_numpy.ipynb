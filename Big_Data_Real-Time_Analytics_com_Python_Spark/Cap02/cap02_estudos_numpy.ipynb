{
 "cells": [
  {
   "cell_type": "code",
   "execution_count": 1,
   "id": "70d7301f",
   "metadata": {},
   "outputs": [
    {
     "name": "stdout",
     "output_type": "stream",
     "text": [
      "Python version: 3.11.5\n"
     ]
    }
   ],
   "source": [
    "from platform import python_version\n",
    "print(f'Python version: {python_version()}')"
   ]
  },
  {
   "cell_type": "code",
   "execution_count": 2,
   "id": "c5e78d0c",
   "metadata": {},
   "outputs": [
    {
     "name": "stdout",
     "output_type": "stream",
     "text": [
      "Note: you may need to restart the kernel to use updated packages.\n"
     ]
    }
   ],
   "source": [
    "%pip install -q -U watermark"
   ]
  },
  {
   "cell_type": "markdown",
   "id": "e81d3927",
   "metadata": {},
   "source": [
    "# Estruturas de dados Numpy"
   ]
  },
  {
   "cell_type": "code",
   "execution_count": 2,
   "id": "4c9c1af4",
   "metadata": {},
   "outputs": [],
   "source": [
    "import numpy as np"
   ]
  },
  {
   "cell_type": "markdown",
   "id": "dcad8d4c",
   "metadata": {},
   "source": [
    "## Array"
   ]
  },
  {
   "cell_type": "code",
   "execution_count": 4,
   "id": "9161f505",
   "metadata": {
    "vscode": {
     "languageId": "powershell"
    }
   },
   "outputs": [],
   "source": [
    "# criando um array unidimensional\n",
    "array1 = np.array([10,20,30,40])"
   ]
  },
  {
   "cell_type": "code",
   "execution_count": 5,
   "id": "ff210a9d",
   "metadata": {},
   "outputs": [
    {
     "name": "stdout",
     "output_type": "stream",
     "text": [
      "[10 20 30 40]\n"
     ]
    }
   ],
   "source": [
    "print(array1)"
   ]
  },
  {
   "cell_type": "code",
   "execution_count": 6,
   "id": "46666042",
   "metadata": {},
   "outputs": [
    {
     "data": {
      "text/plain": [
       "(4,)"
      ]
     },
     "execution_count": 6,
     "metadata": {},
     "output_type": "execute_result"
    }
   ],
   "source": [
    "# verificando o formato do array\n",
    "array1.shape"
   ]
  },
  {
   "cell_type": "code",
   "execution_count": 7,
   "id": "7443fbdf",
   "metadata": {},
   "outputs": [
    {
     "data": {
      "text/plain": [
       "1"
      ]
     },
     "execution_count": 7,
     "metadata": {},
     "output_type": "execute_result"
    }
   ],
   "source": [
    "# verificando a quantidade de dimensões do array\n",
    "array1.ndim"
   ]
  },
  {
   "cell_type": "code",
   "execution_count": 8,
   "id": "5c73b9cf",
   "metadata": {},
   "outputs": [],
   "source": [
    "# criando um array bi-dimensional\n",
    "array2 = np.array([[100, 83, 15],  [42, 78, 0]])"
   ]
  },
  {
   "cell_type": "code",
   "execution_count": 9,
   "id": "25bd0f5d",
   "metadata": {},
   "outputs": [
    {
     "name": "stdout",
     "output_type": "stream",
     "text": [
      "[[100  83  15]\n",
      " [ 42  78   0]]\n"
     ]
    }
   ],
   "source": [
    "print(array2)"
   ]
  },
  {
   "cell_type": "code",
   "execution_count": 10,
   "id": "7daa84af",
   "metadata": {},
   "outputs": [
    {
     "data": {
      "text/plain": [
       "(2, 3)"
      ]
     },
     "execution_count": 10,
     "metadata": {},
     "output_type": "execute_result"
    }
   ],
   "source": [
    "array2.shape"
   ]
  },
  {
   "cell_type": "code",
   "execution_count": 11,
   "id": "11e843e7",
   "metadata": {},
   "outputs": [
    {
     "data": {
      "text/plain": [
       "2"
      ]
     },
     "execution_count": 11,
     "metadata": {},
     "output_type": "execute_result"
    }
   ],
   "source": [
    "array2.ndim"
   ]
  },
  {
   "cell_type": "markdown",
   "id": "46f11d3e",
   "metadata": {},
   "source": [
    "Na caralha do Python, tudo é objeto, isso implica que:\n",
    "- cada objeto possui métodos (ações). Exemplo array2.max()\n",
    "- cada objeto possui propriedades. Exemplo array2.ndim\n",
    "\n",
    "Reparou a diferença? Quando é um método, uma ação, termina com (). Quando é uma propriedade termina sem nada."
   ]
  },
  {
   "cell_type": "code",
   "execution_count": 12,
   "id": "7ea0c183",
   "metadata": {},
   "outputs": [
    {
     "data": {
      "text/plain": [
       "100"
      ]
     },
     "execution_count": 12,
     "metadata": {},
     "output_type": "execute_result"
    }
   ],
   "source": [
    "array2.max()"
   ]
  },
  {
   "cell_type": "code",
   "execution_count": 13,
   "id": "bc12dd44",
   "metadata": {},
   "outputs": [
    {
     "data": {
      "text/plain": [
       "2"
      ]
     },
     "execution_count": 13,
     "metadata": {},
     "output_type": "execute_result"
    }
   ],
   "source": [
    "array2.ndim"
   ]
  },
  {
   "cell_type": "markdown",
   "id": "9f9e2d16",
   "metadata": {},
   "source": [
    "### Arange"
   ]
  },
  {
   "cell_type": "code",
   "execution_count": 14,
   "id": "442c7332",
   "metadata": {},
   "outputs": [],
   "source": [
    "array3 = np.arange(15)"
   ]
  },
  {
   "cell_type": "code",
   "execution_count": 15,
   "id": "10079153",
   "metadata": {},
   "outputs": [
    {
     "data": {
      "text/plain": [
       "array([ 0,  1,  2,  3,  4,  5,  6,  7,  8,  9, 10, 11, 12, 13, 14])"
      ]
     },
     "execution_count": 15,
     "metadata": {},
     "output_type": "execute_result"
    }
   ],
   "source": [
    "array3"
   ]
  },
  {
   "cell_type": "code",
   "execution_count": 16,
   "id": "987bf16c",
   "metadata": {},
   "outputs": [
    {
     "data": {
      "text/plain": [
       "array([ 0,  3,  6,  9, 12])"
      ]
     },
     "execution_count": 16,
     "metadata": {},
     "output_type": "execute_result"
    }
   ],
   "source": [
    "array4 = np.arange(0,15,3)  #cria de 0 a (15-1) indo de 3 em 3\n",
    "array4"
   ]
  },
  {
   "cell_type": "markdown",
   "id": "a94d1867",
   "metadata": {},
   "source": [
    "### Linspace\n",
    "a quantidade de itens em um array igualmente espaçado pelo intervalo informado"
   ]
  },
  {
   "cell_type": "code",
   "execution_count": 17,
   "id": "e1ca6322",
   "metadata": {},
   "outputs": [
    {
     "data": {
      "text/plain": [
       "array([0., 1., 2., 3.])"
      ]
     },
     "execution_count": 17,
     "metadata": {},
     "output_type": "execute_result"
    }
   ],
   "source": [
    "array5 = np.linspace(0,3,4) # cria um array com 4 pontos começando em 0 e terminando em 3\n",
    "array5"
   ]
  },
  {
   "cell_type": "code",
   "execution_count": 18,
   "id": "0ad6244c",
   "metadata": {},
   "outputs": [
    {
     "data": {
      "text/plain": [
       "array([ 0.        ,  1.11111111,  2.22222222,  3.33333333,  4.44444444,\n",
       "        5.55555556,  6.66666667,  7.77777778,  8.88888889, 10.        ])"
      ]
     },
     "execution_count": 18,
     "metadata": {},
     "output_type": "execute_result"
    }
   ],
   "source": [
    "array5a = np.linspace(0,10,10) # cria um array com 10 pontos começando em 0 e terminando em 10\n",
    "array5a"
   ]
  },
  {
   "cell_type": "code",
   "execution_count": 19,
   "id": "268640e9",
   "metadata": {},
   "outputs": [
    {
     "data": {
      "text/plain": [
       "array([ 1.,  2.,  3.,  4.,  5.,  6.,  7.,  8.,  9., 10.])"
      ]
     },
     "execution_count": 19,
     "metadata": {},
     "output_type": "execute_result"
    }
   ],
   "source": [
    "array5b = np.linspace(1,10,10) #cria um array com 10 pontos começando em 1 e terminando em 10\n",
    "array5b"
   ]
  },
  {
   "cell_type": "markdown",
   "id": "2603013c",
   "metadata": {},
   "source": [
    "### Zeros\n",
    "cria um array de zeros"
   ]
  },
  {
   "cell_type": "code",
   "execution_count": 20,
   "id": "5193005f",
   "metadata": {},
   "outputs": [
    {
     "data": {
      "text/plain": [
       "array([[0., 0., 0., 0., 0., 0., 0., 0.],\n",
       "       [0., 0., 0., 0., 0., 0., 0., 0.],\n",
       "       [0., 0., 0., 0., 0., 0., 0., 0.],\n",
       "       [0., 0., 0., 0., 0., 0., 0., 0.],\n",
       "       [0., 0., 0., 0., 0., 0., 0., 0.],\n",
       "       [0., 0., 0., 0., 0., 0., 0., 0.],\n",
       "       [0., 0., 0., 0., 0., 0., 0., 0.],\n",
       "       [0., 0., 0., 0., 0., 0., 0., 0.],\n",
       "       [0., 0., 0., 0., 0., 0., 0., 0.],\n",
       "       [0., 0., 0., 0., 0., 0., 0., 0.]])"
      ]
     },
     "execution_count": 20,
     "metadata": {},
     "output_type": "execute_result"
    }
   ],
   "source": [
    "array6 = np.zeros((10,8)) #cria um array com 10 elementos e com 8 itens em cada elemento\n",
    "array6"
   ]
  },
  {
   "cell_type": "markdown",
   "id": "a0bb7ce2",
   "metadata": {},
   "source": [
    "### Ones"
   ]
  },
  {
   "cell_type": "code",
   "execution_count": 21,
   "id": "f273b63d",
   "metadata": {},
   "outputs": [
    {
     "data": {
      "text/plain": [
       "array([[[1, 1],\n",
       "        [1, 1],\n",
       "        [1, 1]],\n",
       "\n",
       "       [[1, 1],\n",
       "        [1, 1],\n",
       "        [1, 1]]])"
      ]
     },
     "execution_count": 21,
     "metadata": {},
     "output_type": "execute_result"
    }
   ],
   "source": [
    "array7 = np.ones((2,3,2), dtype=int)\n",
    "array7"
   ]
  },
  {
   "cell_type": "markdown",
   "id": "b94c62e0",
   "metadata": {},
   "source": [
    "### Eye\n",
    "Cria uma matriz identidade (matriz com a diagonal com valores 1)"
   ]
  },
  {
   "cell_type": "code",
   "execution_count": 22,
   "metadata": {},
   "outputs": [
    {
     "data": {
      "text/plain": [
       "array([[1., 0., 0.],\n",
       "       [0., 1., 0.],\n",
       "       [0., 0., 1.]])"
      ]
     },
     "execution_count": 22,
     "metadata": {},
     "output_type": "execute_result"
    }
   ],
   "source": [
    "array8 = np.eye(3)\n",
    "array8"
   ]
  },
  {
   "cell_type": "markdown",
   "id": "cc149bf1",
   "metadata": {},
   "source": [
    "### Diag\n",
    "cria uma matriz com 0 e a diagonal com os valores indicados"
   ]
  },
  {
   "cell_type": "code",
   "execution_count": 23,
   "id": "fa76da4c",
   "metadata": {},
   "outputs": [
    {
     "data": {
      "text/plain": [
       "array([[2, 0, 0, 0],\n",
       "       [0, 1, 0, 0],\n",
       "       [0, 0, 4, 0],\n",
       "       [0, 0, 0, 6]])"
      ]
     },
     "execution_count": 23,
     "metadata": {},
     "output_type": "execute_result"
    }
   ],
   "source": [
    "array9 = np.diag((2,1,4,6))\n",
    "array9"
   ]
  },
  {
   "cell_type": "markdown",
   "id": "36c9cc99",
   "metadata": {},
   "source": [
    "### Random.rand\n",
    "cria uma matriz com valores randômicos"
   ]
  },
  {
   "cell_type": "code",
   "execution_count": 24,
   "id": "33acd31c",
   "metadata": {},
   "outputs": [
    {
     "data": {
      "text/plain": [
       "array([0.00988112, 0.86677723, 0.82983439, 0.2143716 , 0.86374548])"
      ]
     },
     "execution_count": 24,
     "metadata": {},
     "output_type": "execute_result"
    }
   ],
   "source": [
    "array10 = np.random.rand(5) #crio 5 valores randômicos. A cada execução haverá valores novos\n",
    "array10"
   ]
  },
  {
   "cell_type": "code",
   "execution_count": 25,
   "id": "90550e34",
   "metadata": {},
   "outputs": [
    {
     "data": {
      "text/plain": [
       "array([0.54340494, 0.27836939, 0.42451759, 0.84477613, 0.00471886])"
      ]
     },
     "execution_count": 25,
     "metadata": {},
     "output_type": "execute_result"
    }
   ],
   "source": [
    "np.random.seed(100) # travo os valores randômicos. A cada execução os valores serão os mesmos\n",
    "array10a = np.random.rand(5)\n",
    "array10a"
   ]
  },
  {
   "cell_type": "markdown",
   "id": "b3714342",
   "metadata": {},
   "source": [
    "### randn\n",
    "Gera valores aleatórios com distribuição normal (Gaussian)"
   ]
  },
  {
   "cell_type": "code",
   "execution_count": 26,
   "id": "5517dcef",
   "metadata": {},
   "outputs": [
    {
     "data": {
      "text/plain": [
       "array([ 0.35467445, -0.78606433, -0.2318722 ,  0.20797568,  0.93580797])"
      ]
     },
     "execution_count": 26,
     "metadata": {},
     "output_type": "execute_result"
    }
   ],
   "source": [
    "array11 = np.random.randn(5)\n",
    "array11"
   ]
  },
  {
   "cell_type": "markdown",
   "id": "e9e46333",
   "metadata": {},
   "source": [
    "### Empty\n",
    "Cria um array vazio"
   ]
  },
  {
   "cell_type": "code",
   "execution_count": 27,
   "id": "9db8ef5c",
   "metadata": {},
   "outputs": [
    {
     "data": {
      "text/plain": [
       "array([[6.23042070e-307, 4.67296746e-307],\n",
       "       [1.69121096e-306, 1.37961438e-306],\n",
       "       [1.89146896e-307, 7.56571288e-307]])"
      ]
     },
     "execution_count": 27,
     "metadata": {},
     "output_type": "execute_result"
    }
   ],
   "source": [
    "array12 = np.empty((3,2))\n",
    "array12"
   ]
  },
  {
   "cell_type": "markdown",
   "id": "a54ef3bc",
   "metadata": {},
   "source": [
    "### Tile\n",
    "Multiplica o array pelo valor informado (cria cópias do array dentro do array)"
   ]
  },
  {
   "cell_type": "code",
   "execution_count": 28,
   "id": "10ca0a6c",
   "metadata": {},
   "outputs": [
    {
     "data": {
      "text/plain": [
       "array([1, 2, 3])"
      ]
     },
     "execution_count": 28,
     "metadata": {},
     "output_type": "execute_result"
    }
   ],
   "source": [
    "arrayTile = np.array([1,2,3])\n",
    "arrayTile"
   ]
  },
  {
   "cell_type": "code",
   "execution_count": 29,
   "id": "45be3409",
   "metadata": {},
   "outputs": [
    {
     "data": {
      "text/plain": [
       "array([1, 2, 3, 1, 2, 3])"
      ]
     },
     "execution_count": 29,
     "metadata": {},
     "output_type": "execute_result"
    }
   ],
   "source": [
    "np.tile(arrayTile, 2) #pegou o arrayTile e duplicou ele dentro dele mesmo"
   ]
  },
  {
   "cell_type": "code",
   "execution_count": 30,
   "id": "eadb231e",
   "metadata": {},
   "outputs": [
    {
     "data": {
      "text/plain": [
       "array([[[1, 2, 3, 1, 2, 3, 1, 2, 3],\n",
       "        [1, 2, 3, 1, 2, 3, 1, 2, 3],\n",
       "        [1, 2, 3, 1, 2, 3, 1, 2, 3],\n",
       "        [1, 2, 3, 1, 2, 3, 1, 2, 3],\n",
       "        [1, 2, 3, 1, 2, 3, 1, 2, 3]],\n",
       "\n",
       "       [[1, 2, 3, 1, 2, 3, 1, 2, 3],\n",
       "        [1, 2, 3, 1, 2, 3, 1, 2, 3],\n",
       "        [1, 2, 3, 1, 2, 3, 1, 2, 3],\n",
       "        [1, 2, 3, 1, 2, 3, 1, 2, 3],\n",
       "        [1, 2, 3, 1, 2, 3, 1, 2, 3]],\n",
       "\n",
       "       [[1, 2, 3, 1, 2, 3, 1, 2, 3],\n",
       "        [1, 2, 3, 1, 2, 3, 1, 2, 3],\n",
       "        [1, 2, 3, 1, 2, 3, 1, 2, 3],\n",
       "        [1, 2, 3, 1, 2, 3, 1, 2, 3],\n",
       "        [1, 2, 3, 1, 2, 3, 1, 2, 3]]])"
      ]
     },
     "execution_count": 30,
     "metadata": {},
     "output_type": "execute_result"
    }
   ],
   "source": [
    "np.tile(arrayTile, (3,5,3)) #pegou o array tile, triplicou ele dentro dele mesmo, pegou o resultado e criou 5 dimensões, pegou o resultado e criou mais 3 dimensões"
   ]
  },
  {
   "cell_type": "markdown",
   "id": "9c4f7bba",
   "metadata": {},
   "source": [
    "### Definindo o tipo de dado do array"
   ]
  },
  {
   "cell_type": "code",
   "execution_count": 31,
   "id": "a16a487c",
   "metadata": {},
   "outputs": [
    {
     "data": {
      "text/plain": [
       "array([1., 2., 3.])"
      ]
     },
     "execution_count": 31,
     "metadata": {},
     "output_type": "execute_result"
    }
   ],
   "source": [
    "array13 = np.array([1,2,3], dtype=float)\n",
    "array13"
   ]
  },
  {
   "cell_type": "code",
   "execution_count": 32,
   "id": "8d862f0a",
   "metadata": {},
   "outputs": [
    {
     "data": {
      "text/plain": [
       "array([  15732993, -267321087,  285278472,   16842992,   16838673])"
      ]
     },
     "execution_count": 32,
     "metadata": {},
     "output_type": "execute_result"
    }
   ],
   "source": [
    "array13a = np.empty(5, dtype=int)\n",
    "array13a"
   ]
  },
  {
   "cell_type": "markdown",
   "id": "bfe34d95",
   "metadata": {},
   "source": [
    "### Operações com Arrays"
   ]
  },
  {
   "cell_type": "code",
   "execution_count": 33,
   "id": "a63d4d48",
   "metadata": {},
   "outputs": [
    {
     "data": {
      "text/plain": [
       "array([  0,   5,  10,  15,  20,  25,  30,  35,  40,  45,  50,  55,  60,\n",
       "        65,  70,  75,  80,  85,  90,  95, 100, 105, 110, 115, 120, 125,\n",
       "       130, 135, 140, 145])"
      ]
     },
     "execution_count": 33,
     "metadata": {},
     "output_type": "execute_result"
    }
   ],
   "source": [
    "# multiplicando todos os elementos de um array\n",
    "array19 = np.arange(0,30) * 5\n",
    "array19"
   ]
  },
  {
   "cell_type": "code",
   "execution_count": 34,
   "id": "ce39db04",
   "metadata": {},
   "outputs": [
    {
     "data": {
      "text/plain": [
       "array([  0,   1,  16,  81, 256], dtype=int32)"
      ]
     },
     "execution_count": 34,
     "metadata": {},
     "output_type": "execute_result"
    }
   ],
   "source": [
    "# elevando os elementos de um array a uma potência\n",
    "array20 = np.arange(5) ** 4\n",
    "array20"
   ]
  },
  {
   "cell_type": "code",
   "execution_count": 35,
   "id": "20d57ae7",
   "metadata": {},
   "outputs": [
    {
     "data": {
      "text/plain": [
       "array([10, 11, 12, 13, 14])"
      ]
     },
     "execution_count": 35,
     "metadata": {},
     "output_type": "execute_result"
    }
   ],
   "source": [
    "# Somando um número a cada elemento de array\n",
    "array21 = np.arange(5) + 10\n",
    "array21"
   ]
  },
  {
   "cell_type": "code",
   "execution_count": 36,
   "id": "3cb8f6fa",
   "metadata": {},
   "outputs": [
    {
     "data": {
      "text/plain": [
       "array([  10,   10,   -4,  -68, -242])"
      ]
     },
     "execution_count": 36,
     "metadata": {},
     "output_type": "execute_result"
    }
   ],
   "source": [
    "# Subtração de arrays\n",
    "array22 = array21 - array20\n",
    "array22"
   ]
  },
  {
   "cell_type": "code",
   "execution_count": 37,
   "id": "c3f1f962",
   "metadata": {},
   "outputs": [
    {
     "ename": "ValueError",
     "evalue": "operands could not be broadcast together with shapes (30,) (5,) ",
     "output_type": "error",
     "traceback": [
      "\u001b[1;31m---------------------------------------------------------------------------\u001b[0m",
      "\u001b[1;31mValueError\u001b[0m                                Traceback (most recent call last)",
      "Cell \u001b[1;32mIn[37], line 2\u001b[0m\n\u001b[0;32m      1\u001b[0m \u001b[38;5;66;03m# Para operações elementares é necessário que todos os arrays tenham a mesma quantidade de elementos\u001b[39;00m\n\u001b[1;32m----> 2\u001b[0m array23 \u001b[38;5;241m=\u001b[39m array19 \u001b[38;5;241m-\u001b[39m array21\n\u001b[0;32m      3\u001b[0m array23\n",
      "\u001b[1;31mValueError\u001b[0m: operands could not be broadcast together with shapes (30,) (5,) "
     ]
    }
   ],
   "source": [
    "# Para operações elementares é necessário que todos os arrays tenham a mesma quantidade de elementos\n",
    "array23 = array19 - array21\n",
    "array23"
   ]
  },
  {
   "cell_type": "code",
   "execution_count": 38,
   "id": "06f1d37e",
   "metadata": {},
   "outputs": [
    {
     "data": {
      "text/plain": [
       "array([False, False, False, False, False])"
      ]
     },
     "execution_count": 38,
     "metadata": {},
     "output_type": "execute_result"
    }
   ],
   "source": [
    "# Comparando logicamente dois arrays\n",
    "array22 > array21"
   ]
  },
  {
   "cell_type": "markdown",
   "id": "59c57d0d",
   "metadata": {},
   "source": [
    "### Indexação de arrays"
   ]
  },
  {
   "cell_type": "code",
   "execution_count": 42,
   "id": "4ad7f25e",
   "metadata": {},
   "outputs": [
    {
     "data": {
      "text/plain": [
       "array([0, 1, 2, 3, 4])"
      ]
     },
     "execution_count": 42,
     "metadata": {},
     "output_type": "execute_result"
    }
   ],
   "source": [
    "# criando um array\n",
    "array23 = np.arange(5)\n",
    "array23"
   ]
  },
  {
   "cell_type": "code",
   "execution_count": 40,
   "id": "69cd2a9b",
   "metadata": {},
   "outputs": [
    {
     "data": {
      "text/plain": [
       "0"
      ]
     },
     "execution_count": 40,
     "metadata": {},
     "output_type": "execute_result"
    }
   ],
   "source": [
    "# chamando o primeiro elemento do array\n",
    "array23[0]"
   ]
  },
  {
   "cell_type": "code",
   "execution_count": 56,
   "id": "c399ce8d",
   "metadata": {},
   "outputs": [
    {
     "data": {
      "text/plain": [
       "array([[190, 290, 490],\n",
       "       [129, 458, 567],\n",
       "       [761, 902, 346]])"
      ]
     },
     "execution_count": 56,
     "metadata": {},
     "output_type": "execute_result"
    }
   ],
   "source": [
    "array24 = np.array([[190,290,490,],[129,458,567],[761,902,346]])\n",
    "array24"
   ]
  },
  {
   "cell_type": "code",
   "execution_count": 45,
   "id": "fbffbd0f",
   "metadata": {},
   "outputs": [
    {
     "data": {
      "text/plain": [
       "array([761, 902, 346])"
      ]
     },
     "execution_count": 45,
     "metadata": {},
     "output_type": "execute_result"
    }
   ],
   "source": [
    "# Retorna os elementos do index 2 de linhas da matriz\n",
    "array24[2]"
   ]
  },
  {
   "cell_type": "code",
   "execution_count": 52,
   "id": "40dfe4a3",
   "metadata": {},
   "outputs": [
    {
     "data": {
      "text/plain": [
       "array([761, 902, 346])"
      ]
     },
     "execution_count": 52,
     "metadata": {},
     "output_type": "execute_result"
    }
   ],
   "source": [
    "# Retorna os elementos do index 2 de linhas da matriz - modo alternatico\n",
    "array24[2,]"
   ]
  },
  {
   "cell_type": "code",
   "execution_count": 54,
   "id": "875b28a2",
   "metadata": {},
   "outputs": [
    {
     "data": {
      "text/plain": [
       "array([290, 458, 902])"
      ]
     },
     "execution_count": 54,
     "metadata": {},
     "output_type": "execute_result"
    }
   ],
   "source": [
    "# Retorna todas as linhas da segunda coluna da matriz\n",
    "array24[:,1]"
   ]
  },
  {
   "cell_type": "code",
   "execution_count": 53,
   "id": "b58d50d0",
   "metadata": {},
   "outputs": [
    {
     "data": {
      "text/plain": [
       "902"
      ]
     },
     "execution_count": 53,
     "metadata": {},
     "output_type": "execute_result"
    }
   ],
   "source": [
    "array24[2,1]"
   ]
  },
  {
   "cell_type": "code",
   "execution_count": 57,
   "id": "939da599",
   "metadata": {},
   "outputs": [
    {
     "data": {
      "text/plain": [
       "array([[  190,   290,   490],\n",
       "       [  129, 99999,   567],\n",
       "       [  761,   902,   346]])"
      ]
     },
     "execution_count": 57,
     "metadata": {},
     "output_type": "execute_result"
    }
   ],
   "source": [
    "# atribuir um valor ao item da matriz\n",
    "array24[1,1] = 99999\n",
    "array24"
   ]
  },
  {
   "cell_type": "markdown",
   "id": "c34d6e1f",
   "metadata": {},
   "source": [
    "### Slicing de array"
   ]
  },
  {
   "cell_type": "code",
   "execution_count": 8,
   "id": "614614e5",
   "metadata": {},
   "outputs": [
    {
     "data": {
      "text/plain": [
       "array([ 0,  2,  4,  6,  8, 10, 12, 14, 16, 18, 20, 22, 24, 26, 28, 30, 32,\n",
       "       34, 36, 38, 40, 42, 44, 46, 48, 50, 52, 54, 56, 58, 60, 62, 64, 66,\n",
       "       68, 70, 72, 74, 76, 78, 80, 82, 84, 86, 88, 90, 92, 94, 96, 98])"
      ]
     },
     "execution_count": 8,
     "metadata": {},
     "output_type": "execute_result"
    }
   ],
   "source": [
    "array25 = np.arange(50) * 2\n",
    "array25"
   ]
  },
  {
   "cell_type": "code",
   "execution_count": 9,
   "id": "ea2a57c6",
   "metadata": {},
   "outputs": [
    {
     "data": {
      "text/plain": [
       "array([10, 14, 18])"
      ]
     },
     "execution_count": 9,
     "metadata": {},
     "output_type": "execute_result"
    }
   ],
   "source": [
    "# quero pegar do 5º ao 10º índice, saltando de 2 em 2\n",
    "array25[5:10:2]"
   ]
  },
  {
   "cell_type": "code",
   "execution_count": 13,
   "id": "13df8279",
   "metadata": {},
   "outputs": [
    {
     "data": {
      "text/plain": [
       "array([0, 2, 4, 6])"
      ]
     },
     "execution_count": 13,
     "metadata": {},
     "output_type": "execute_result"
    }
   ],
   "source": [
    "# retorna os valores até o índice 4\n",
    "array25[:4] # o índice 4 não entra na lista pois o método é exclusico com o índice final"
   ]
  },
  {
   "cell_type": "code",
   "execution_count": 14,
   "id": "96ac6079",
   "metadata": {},
   "outputs": [
    {
     "data": {
      "text/plain": [
       "array([ 8, 10, 12, 14, 16, 18, 20, 22, 24, 26, 28, 30, 32, 34, 36, 38, 40,\n",
       "       42, 44, 46, 48, 50, 52, 54, 56, 58, 60, 62, 64, 66, 68, 70, 72, 74,\n",
       "       76, 78, 80, 82, 84, 86, 88, 90, 92, 94, 96, 98])"
      ]
     },
     "execution_count": 14,
     "metadata": {},
     "output_type": "execute_result"
    }
   ],
   "source": [
    "# retorna os valores a partir do indice 4\n",
    "array25[4:] # o índice 4 entra na lista pois o método é inclusivo com o indice inicial"
   ]
  },
  {
   "cell_type": "code",
   "execution_count": 15,
   "id": "eb03ea42",
   "metadata": {},
   "outputs": [
    {
     "data": {
      "text/plain": [
       "array([ 0,  6, 12, 18, 24, 30, 36, 42, 48, 54, 60, 66, 72, 78, 84, 90, 96])"
      ]
     },
     "execution_count": 15,
     "metadata": {},
     "output_type": "execute_result"
    }
   ],
   "source": [
    "# retorna todos os itens a partir de zero, pulando de 3 em 3\n",
    "array25[::3]"
   ]
  },
  {
   "cell_type": "code",
   "execution_count": 16,
   "id": "35742721",
   "metadata": {},
   "outputs": [
    {
     "data": {
      "text/plain": [
       "array([ 1,  1,  1,  6,  8, 10, 12, 14, 16, 18, 20, 22, 24, 26, 28, 30, 32,\n",
       "       34, 36, 38, 40, 42, 44, 46, 48, 50, 52, 54, 56, 58, 60, 62, 64, 66,\n",
       "       68, 70, 72, 74, 76, 78, 80, 82, 84, 86, 88, 90, 92, 94, 96, 98])"
      ]
     },
     "execution_count": 16,
     "metadata": {},
     "output_type": "execute_result"
    }
   ],
   "source": [
    "# modificar itens de um array usando slicing\n",
    "array25[:3] = 1\n",
    "array25"
   ]
  },
  {
   "cell_type": "code",
   "execution_count": 19,
   "id": "fb973c93",
   "metadata": {},
   "outputs": [
    {
     "data": {
      "text/plain": [
       "array([ 1,  1,  1,  6,  8, 10, 12, 14, 16, 18, 20, 22, 24, 26, 28, 30, 32,\n",
       "       34, 36, 38, 40, 42, 44, 46, 48, 50, 52, 54, 56, 58, 60, 62, 64, 66,\n",
       "       68, 70, 72, 74, 76, 78, 80, 82, 84, 86, 88,  2,  2,  2,  9,  2])"
      ]
     },
     "execution_count": 19,
     "metadata": {},
     "output_type": "execute_result"
    }
   ],
   "source": [
    "# modificar um array com partes de outro array\n",
    "array25[45:] = [2,2,2,9,2]\n",
    "array25"
   ]
  },
  {
   "cell_type": "code",
   "execution_count": 20,
   "id": "c3eac5bd",
   "metadata": {},
   "outputs": [
    {
     "data": {
      "text/plain": [
       "array([ 1,  1,  1,  6,  8, 10, 12, 14, 16, 18,  1,  1,  1,  1,  1, 30, 32,\n",
       "       34, 36, 38, 40, 42, 44, 46, 48, 50, 52, 54, 56, 58, 60, 62, 64, 66,\n",
       "       68, 70, 72, 74, 76, 78, 80, 82, 84, 86, 88,  2,  2,  2,  9,  2])"
      ]
     },
     "execution_count": 20,
     "metadata": {},
     "output_type": "execute_result"
    }
   ],
   "source": [
    "array25[10:15] = np.ones(5)\n",
    "array25"
   ]
  },
  {
   "cell_type": "code",
   "execution_count": 21,
   "id": "aac548f7",
   "metadata": {},
   "outputs": [
    {
     "data": {
      "text/plain": [
       "array([  1,   1,   1,   6,   8,  10,  12,  14,  16,  18,   1,   1,   1,\n",
       "         1,   1,  30, 999,  34,  36, 999,  40,  42, 999,  46,  48, 999,\n",
       "        52,  54, 999,  58,  60,  62,  64,  66,  68,  70,  72,  74,  76,\n",
       "        78,  80,  82,  84,  86,  88,   2,   2,   2,   9,   2])"
      ]
     },
     "execution_count": 21,
     "metadata": {},
     "output_type": "execute_result"
    }
   ],
   "source": [
    "array25[16:30:3] = 999\n",
    "array25"
   ]
  },
  {
   "cell_type": "markdown",
   "id": "b5963268",
   "metadata": {},
   "source": [
    "### Subset de Arrays"
   ]
  },
  {
   "cell_type": "code",
   "execution_count": 23,
   "id": "9575d3b8",
   "metadata": {},
   "outputs": [
    {
     "data": {
      "text/plain": [
       "array([  1,   1,   8,  12,  16,   1,   1,   1, 999,  36,  40, 999,  48,\n",
       "        52, 999,  60,  64,  68,  72,  76,  80,  84,  88,   2,   9])"
      ]
     },
     "execution_count": 23,
     "metadata": {},
     "output_type": "execute_result"
    }
   ],
   "source": [
    "array26 = array25[::2]\n",
    "array26"
   ]
  },
  {
   "cell_type": "markdown",
   "id": "139de4d4",
   "metadata": {},
   "source": [
    "### Cópias de Arrays com np.copy"
   ]
  },
  {
   "cell_type": "code",
   "execution_count": 25,
   "id": "6a6f83ef",
   "metadata": {},
   "outputs": [
    {
     "data": {
      "text/plain": [
       "array([  1,   1,   8,  12,  16,   1,   1,   1, 999,  36,  40, 999,  48,\n",
       "        52, 999,  60,  64,  68,  72,  76,  80,  84,  88,   2,   9])"
      ]
     },
     "execution_count": 25,
     "metadata": {},
     "output_type": "execute_result"
    }
   ],
   "source": [
    "array27 = array26.copy()\n",
    "array27"
   ]
  },
  {
   "cell_type": "markdown",
   "id": "f00c36c5",
   "metadata": {},
   "source": [
    "### Transposição e Reshaping de Arrays"
   ]
  },
  {
   "cell_type": "code",
   "execution_count": 26,
   "id": "d49059c1",
   "metadata": {},
   "outputs": [
    {
     "data": {
      "text/plain": [
       "array([[190, 290, 490],\n",
       "       [129, 458, 567],\n",
       "       [761, 902, 346]])"
      ]
     },
     "execution_count": 26,
     "metadata": {},
     "output_type": "execute_result"
    }
   ],
   "source": [
    "array28 = np.array([[190,290,490,],[129,458,567],[761,902,346]])\n",
    "array28"
   ]
  },
  {
   "cell_type": "code",
   "execution_count": 27,
   "id": "75afb707",
   "metadata": {},
   "outputs": [
    {
     "data": {
      "text/plain": [
       "array([[190, 129, 761],\n",
       "       [290, 458, 902],\n",
       "       [490, 567, 346]])"
      ]
     },
     "execution_count": 27,
     "metadata": {},
     "output_type": "execute_result"
    }
   ],
   "source": [
    "array28.T"
   ]
  },
  {
   "cell_type": "code",
   "execution_count": 28,
   "id": "863121cb",
   "metadata": {},
   "outputs": [
    {
     "data": {
      "text/plain": [
       "array([[190, 129, 761],\n",
       "       [290, 458, 902],\n",
       "       [490, 567, 346]])"
      ]
     },
     "execution_count": 28,
     "metadata": {},
     "output_type": "execute_result"
    }
   ],
   "source": [
    "np.transpose(array28)"
   ]
  },
  {
   "cell_type": "markdown",
   "id": "9cfe10c4",
   "metadata": {},
   "source": [
    "### Broadcasting"
   ]
  },
  {
   "cell_type": "code",
   "execution_count": 34,
   "id": "9df8a394",
   "metadata": {},
   "outputs": [
    {
     "data": {
      "text/plain": [
       "array([[33, 34, 35]])"
      ]
     },
     "execution_count": 34,
     "metadata": {},
     "output_type": "execute_result"
    }
   ],
   "source": [
    "array29 = np.array([[33,34,35]])\n",
    "array29"
   ]
  },
  {
   "cell_type": "code",
   "execution_count": 35,
   "id": "8b05e975",
   "metadata": {},
   "outputs": [
    {
     "data": {
      "text/plain": [
       "array([[33],\n",
       "       [34],\n",
       "       [35]])"
      ]
     },
     "execution_count": 35,
     "metadata": {},
     "output_type": "execute_result"
    }
   ],
   "source": [
    "array29.T"
   ]
  },
  {
   "cell_type": "code",
   "execution_count": 37,
   "id": "f2068d77",
   "metadata": {},
   "outputs": [
    {
     "data": {
      "text/plain": [
       "array([[66, 67, 68],\n",
       "       [67, 68, 69],\n",
       "       [68, 69, 70]])"
      ]
     },
     "execution_count": 37,
     "metadata": {},
     "output_type": "execute_result"
    }
   ],
   "source": [
    "array29.T + array29"
   ]
  },
  {
   "cell_type": "code",
   "execution_count": null,
   "id": "daefdf74",
   "metadata": {},
   "outputs": [],
   "source": []
  }
 ],
 "metadata": {
  "kernelspec": {
   "display_name": "Python 3 (ipykernel)",
   "language": "python",
   "name": "python3"
  },
  "language_info": {
   "codemirror_mode": {
    "name": "ipython",
    "version": 3
   },
   "file_extension": ".py",
   "mimetype": "text/x-python",
   "name": "python",
   "nbconvert_exporter": "python",
   "pygments_lexer": "ipython3",
   "version": "3.11.5"
  }
 },
 "nbformat": 4,
 "nbformat_minor": 5
}
